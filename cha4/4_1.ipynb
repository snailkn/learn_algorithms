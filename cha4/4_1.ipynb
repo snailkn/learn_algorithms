{
 "cells": [
  {
   "cell_type": "markdown",
   "metadata": {
    "collapsed": true
   },
   "source": [
    "# 最大子数组问题"
   ]
  },
  {
   "cell_type": "markdown",
   "metadata": {},
   "source": [
    "## 1. 暴力求解"
   ]
  },
  {
   "cell_type": "code",
   "execution_count": 1,
   "metadata": {},
   "outputs": [
    {
     "name": "stdout",
     "output_type": "stream",
     "text": [
      "\n",
      "start: 2, end: 501, sum: 131456.\n",
      "time: 0.001681\n"
     ]
    }
   ],
   "source": [
    "# include <stdio.h>\n",
    "# include <stdlib.h>\n",
    "# include <time.h>\n",
    "\n",
    "struct Subarray{\n",
    "    int start;\n",
    "    int end;\n",
    "    int sum;\n",
    "};\n",
    "\n",
    "int main(){\n",
    "    srand(500);\n",
    "    int nums[1000];\n",
    "    int sum;\n",
    "    \n",
    "//     creat a array of nums\n",
    "    for(int i=0; i<1000; i++){\n",
    "        nums[i] = -5000 + rand() % 10001;\n",
    "//         printf(\"%d \", nums[i]);\n",
    "    }\n",
    "    \n",
    "    clock_t t1 = clock();\n",
    "\n",
    "    struct Subarray maxarray;\n",
    "    maxarray.start = 0;\n",
    "    maxarray.end = 0;\n",
    "    maxarray.sum = nums[0];\n",
    "    \n",
    "    for(int start=0; start < 999; start++){\n",
    "        sum = nums[start];\n",
    "        for(int end=start; end<1000; end++){\n",
    "            if(start != end){\n",
    "                sum += nums[end];\n",
    "            }\n",
    "            if(sum > maxarray.sum){\n",
    "                maxarray.start = start;\n",
    "                maxarray.end = end;\n",
    "                maxarray.sum = sum;\n",
    "            }\n",
    "        }\n",
    "    }\n",
    "    \n",
    "    printf(\"\\nstart: %d, end: %d, sum: %d.\\n\", maxarray.start, maxarray.end, maxarray.sum);\n",
    "    \n",
    "    clock_t t2 = clock();\n",
    "    printf(\"time: %f\\n\", (double)(t2 - t1) / CLOCKS_PER_SEC);\n",
    "    return 0;\n",
    "        \n",
    "}"
   ]
  },
  {
   "cell_type": "markdown",
   "metadata": {
    "collapsed": true
   },
   "source": [
    "## 2. 分治求解"
   ]
  },
  {
   "cell_type": "code",
   "execution_count": 2,
   "metadata": {},
   "outputs": [
    {
     "name": "stdout",
     "output_type": "stream",
     "text": [
      "\n",
      "start: 2, end: 501, sum: 131456.\n",
      "time: 0.000166\n"
     ]
    }
   ],
   "source": [
    "# include <stdio.h>\n",
    "# include <stdlib.h>\n",
    "# include <time.h>\n",
    "\n",
    "struct Subarray{\n",
    "    int start;\n",
    "    int end;\n",
    "    int sum;\n",
    "};\n",
    "\n",
    "struct Subarray find_max_suba_left(int *array, int first, int last){\n",
    "    int max = last;\n",
    "    int sum = array[last];\n",
    "    int start = last;\n",
    "    for(int i=last-1; i>=first; i--){\n",
    "        sum += array[i];\n",
    "        if(sum > max){\n",
    "            max = sum;\n",
    "            start = i;\n",
    "        }\n",
    "    }\n",
    "    \n",
    "    struct Subarray max_suba = {start, last, max};\n",
    "    return max_suba;\n",
    "}\n",
    "\n",
    "struct Subarray find_max_suba_right(int *array, int first, int last){\n",
    "    int max = first;\n",
    "    int sum = array[first];\n",
    "    int end = first;\n",
    "    for(int i=first+1; i<=last; i++){\n",
    "        sum += array[i];\n",
    "        if(sum > max){\n",
    "            max = sum;\n",
    "            end = i;\n",
    "        }\n",
    "    }\n",
    "    \n",
    "    struct Subarray max_suba = {first, end, max};\n",
    "    return max_suba;\n",
    "}\n",
    "\n",
    "struct Subarray find_max_suba(int *array, int first, int last){\n",
    "    struct Subarray max_suba;\n",
    "    if(first == last){\n",
    "        max_suba.start = first;\n",
    "        max_suba.end = first;\n",
    "        max_suba.sum = array[first];\n",
    "        return max_suba;\n",
    "    }\n",
    "    int mid = (first + last)/2;\n",
    "    struct Subarray max_suba_left = find_max_suba(array, first, mid);\n",
    "    struct Subarray max_suba_right = find_max_suba(array, mid+1, last);\n",
    "    \n",
    "    struct Subarray max_suba_left1 = find_max_suba_left(array, first, mid);\n",
    "    struct Subarray max_suba_right1 = find_max_suba_right(array, mid+1, last);\n",
    "    struct Subarray max_suba_mid = {max_suba_left1.start, max_suba_right1.end, max_suba_left1.sum + max_suba_right1.sum};\n",
    "    \n",
    "    max_suba = max_suba_left.sum>max_suba_right.sum?max_suba_left:max_suba_right;\n",
    "    max_suba = max_suba.sum>max_suba_mid.sum?max_suba:max_suba_mid;\n",
    "    return max_suba;\n",
    "}\n",
    "\n",
    "int main(){\n",
    "    srand(500);\n",
    "    int nums[1000];\n",
    "    int sum;\n",
    "    \n",
    "//     creat a array of nums\n",
    "    for(int i=0; i<1000; i++){\n",
    "        nums[i] = -5000 + rand() % 10001;\n",
    "    }\n",
    "    \n",
    "    clock_t t1 = clock();\n",
    "    \n",
    "    struct Subarray suba = find_max_suba(nums, 0, 999);\n",
    "    printf(\"\\nstart: %d, end: %d, sum: %d.\\n\", suba.start, suba.end, suba.sum);\n",
    "    \n",
    "    clock_t t2 = clock();\n",
    "    printf(\"time: %f\\n\", (double)(t2 - t1) / CLOCKS_PER_SEC);\n",
    "    return 0;\n",
    "}"
   ]
  },
  {
   "cell_type": "markdown",
   "metadata": {
    "collapsed": true
   },
   "source": [
    "## 3. 线性解决方案"
   ]
  },
  {
   "cell_type": "code",
   "execution_count": 8,
   "metadata": {},
   "outputs": [
    {
     "name": "stdout",
     "output_type": "stream",
     "text": [
      "\n",
      "start: 2, end: 501, sum: 131456.\n",
      "time: 0.000021\n"
     ]
    }
   ],
   "source": [
    "# include <stdio.h>\n",
    "# include <stdlib.h>\n",
    "# include <time.h>\n",
    "\n",
    "struct Subarray{\n",
    "    int start;\n",
    "    int end;\n",
    "    int sum;\n",
    "};\n",
    "\n",
    "\n",
    "int main(){\n",
    "    srand(500);\n",
    "    int nums[1000];\n",
    "    \n",
    "//     creat a array of nums\n",
    "    for(int i=0; i<1000; i++){\n",
    "        nums[i] = -5000 + rand() % 10001;\n",
    "    }\n",
    "    \n",
    "    clock_t t1 = clock();\n",
    "    \n",
    "    struct Subarray max = {0, 0, nums[0]};\n",
    "    struct Subarray right_max = {0, 0, nums[0]};\n",
    "    for(int i=1; i<1000; i++){\n",
    "        if(right_max.sum < 0){\n",
    "            right_max.start = i;\n",
    "            right_max.end = i;\n",
    "            right_max.sum = nums[i];\n",
    "        }\n",
    "        else{\n",
    "            right_max.end = i;\n",
    "            right_max.sum += nums[i];\n",
    "        }\n",
    "        \n",
    "        if(right_max.sum >= max.sum){\n",
    "            max.start = right_max.start;\n",
    "            max.end = right_max.end;\n",
    "            max.sum = right_max.sum;\n",
    "        }\n",
    "    }\n",
    "    \n",
    "    printf(\"\\nstart: %d, end: %d, sum: %d.\\n\", max.start, max.end, max.sum);\n",
    "    \n",
    "    clock_t t2 = clock();\n",
    "    printf(\"time: %f\\n\", (double)(t2 - t1) / CLOCKS_PER_SEC);\n",
    "    return 0;\n",
    "}"
   ]
  },
  {
   "cell_type": "code",
   "execution_count": null,
   "metadata": {
    "collapsed": true
   },
   "outputs": [],
   "source": []
  }
 ],
 "metadata": {
  "kernelspec": {
   "display_name": "C",
   "language": "c",
   "name": "bash"
  },
  "language_info": {
   "file_extension": ".c",
   "mimetype": "text/plain",
   "name": "c"
  }
 },
 "nbformat": 4,
 "nbformat_minor": 2
}
