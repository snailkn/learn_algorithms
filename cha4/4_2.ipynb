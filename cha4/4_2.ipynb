{
 "cells": [
  {
   "cell_type": "markdown",
   "metadata": {},
   "source": [
    "# Strassen matrix multiply"
   ]
  },
  {
   "cell_type": "markdown",
   "metadata": {},
   "source": [
    "- 假定有两个 2<sup>n</sup>×2<sup>n</sup> 的矩阵，求取矩阵C = A × B"
   ]
  },
  {
   "cell_type": "code",
   "execution_count": 9,
   "metadata": {},
   "outputs": [],
   "source": [
    "import numpy as np\n",
    "from random import sample\n",
    "from functools import reduce\n",
    "import datetime\n",
    "\n",
    "N = 512\n",
    "\n",
    "a, b = np.random.random((N,N)), np.random.random((N,N))\n",
    "# a, b = np.array(((1, 2),(3 ,4))), np.array(((5, 6),(7, 8)))"
   ]
  },
  {
   "cell_type": "markdown",
   "metadata": {},
   "source": [
    "## natrue algorithms"
   ]
  },
  {
   "cell_type": "code",
   "execution_count": 10,
   "metadata": {
    "collapsed": true
   },
   "outputs": [],
   "source": [
    "def matrix_multiply_nature(a, b):\n",
    "    if not a.shape == b.shape and a.shape[0] == a.shape[1]:\n",
    "        raise ValueError('invald matrix')\n",
    "    c = np.zeros(a.shape)\n",
    "    n = a.shape[0]\n",
    "    \n",
    "    for i in range(n):\n",
    "        for j in range(n):\n",
    "            c[i][j] = reduce(lambda x, y: x + y, [a[i][x] * b[x][j] for x in range(n)])\n",
    "            \n",
    "    return c;"
   ]
  },
  {
   "cell_type": "code",
   "execution_count": 11,
   "metadata": {},
   "outputs": [
    {
     "name": "stdout",
     "output_type": "stream",
     "text": [
      "0:02:21.904609\n"
     ]
    },
    {
     "data": {
      "text/plain": [
       "122.9289311208492"
      ]
     },
     "execution_count": 11,
     "metadata": {},
     "output_type": "execute_result"
    }
   ],
   "source": [
    "t1 = datetime.datetime.now()\n",
    "c = matrix_multiply_nature(a, b)\n",
    "print(datetime.datetime.now() - t1)\n",
    "c[25][25]"
   ]
  },
  {
   "cell_type": "markdown",
   "metadata": {},
   "source": [
    "## recursion algorithms"
   ]
  },
  {
   "cell_type": "code",
   "execution_count": 12,
   "metadata": {},
   "outputs": [],
   "source": [
    "def matrix_multiply(a, b):\n",
    "    if not a.shape == b.shape and a.shape[0] == a.shape[1]:\n",
    "        raise ValueError('invald matrix')\n",
    "    c = np.zeros(a.shape)\n",
    "    mid = a.shape[0]//2\n",
    "    if not mid:\n",
    "        c[0][0] = a[0][0] * b[0][0]\n",
    "    else:\n",
    "        a11 = a[:mid, :mid]\n",
    "        a12 = a[:mid, mid:]\n",
    "        a21 = a[mid:, :mid]\n",
    "        a22 = a[mid:, mid:]\n",
    "        \n",
    "        b11 = b[:mid, :mid]\n",
    "        b12 = b[:mid, mid:]\n",
    "        b21 = b[mid:, :mid]\n",
    "        b22 = b[mid:, mid:]\n",
    "        \n",
    "        c11 = matrix_multiply(a11, b11) + matrix_multiply(a12, b21)\n",
    "        c12 = matrix_multiply(a11, b12) + matrix_multiply(a12, b22)\n",
    "        c21 = matrix_multiply(a21, b11) + matrix_multiply(a22, b21)\n",
    "        c22 = matrix_multiply(a21, b12) + matrix_multiply(a22, b22)\n",
    "                        \n",
    "        c[:mid, :mid] = c11\n",
    "        c[:mid, mid:] = c12\n",
    "        c[mid:, :mid] = c21\n",
    "        c[mid:, mid:] = c22\n",
    "        \n",
    "    return c"
   ]
  },
  {
   "cell_type": "code",
   "execution_count": 13,
   "metadata": {},
   "outputs": [
    {
     "name": "stdout",
     "output_type": "stream",
     "text": [
      "0:09:48.067821\n"
     ]
    },
    {
     "data": {
      "text/plain": [
       "122.92893112084923"
      ]
     },
     "execution_count": 13,
     "metadata": {},
     "output_type": "execute_result"
    }
   ],
   "source": [
    "t1 = datetime.datetime.now()\n",
    "c = matrix_multiply(a, b)\n",
    "print(datetime.datetime.now() - t1)\n",
    "c[25][25]"
   ]
  },
  {
   "cell_type": "markdown",
   "metadata": {},
   "source": [
    "## strassen algorithms"
   ]
  },
  {
   "cell_type": "code",
   "execution_count": 14,
   "metadata": {
    "collapsed": true
   },
   "outputs": [],
   "source": [
    "def strassen(a, b):\n",
    "    if not a.shape == b.shape and a.shape[0] == a.shape[1]:\n",
    "        raise ValueError('invald matrix')\n",
    "    c = np.zeros(a.shape)\n",
    "    mid = a.shape[0]//2\n",
    "    if not mid:\n",
    "        c[0][0] = a[0][0] * b[0][0]\n",
    "    else:\n",
    "        a11 = a[:mid, :mid]\n",
    "        a12 = a[:mid, mid:]\n",
    "        a21 = a[mid:, :mid]\n",
    "        a22 = a[mid:, mid:]\n",
    "        \n",
    "        b11 = b[:mid, :mid]\n",
    "        b12 = b[:mid, mid:]\n",
    "        b21 = b[mid:, :mid]\n",
    "        b22 = b[mid:, mid:]\n",
    "        \n",
    "        s1 = b12 - b22\n",
    "        s2 = a11 + a12\n",
    "        s3 = a21 + a22\n",
    "        s4 = b21 - b11\n",
    "        s5 = a11 + a22\n",
    "        s6 = b11 + b22\n",
    "        s7 = a12 - a22\n",
    "        s8 = b21 + b22\n",
    "        s9 = a11 - a21\n",
    "        s10 = b11 + b12\n",
    "        \n",
    "        p1 = strassen(a11, s1)\n",
    "        p2 = strassen(s2, b22)\n",
    "        p3 = strassen(s3, b11)\n",
    "        p4 = strassen(a22, s4)\n",
    "        p5 = strassen(s5, s6)\n",
    "        p6 = strassen(s7, s8)\n",
    "        p7 = strassen(s9, s10)\n",
    "        \n",
    "        c11 = p5 + p4 - p2 + p6\n",
    "        c12 = p1 + p2\n",
    "        c21 = p3 + p4\n",
    "        c22 = p5 + p1 - p3 - p7\n",
    "        \n",
    "        c[:mid, :mid] = c11\n",
    "        c[:mid, mid:] = c12\n",
    "        c[mid:, :mid] = c21\n",
    "        c[mid:, mid:] = c22\n",
    "        \n",
    "    return c"
   ]
  },
  {
   "cell_type": "code",
   "execution_count": 15,
   "metadata": {},
   "outputs": [
    {
     "name": "stdout",
     "output_type": "stream",
     "text": [
      "0:05:04.511303\n"
     ]
    },
    {
     "data": {
      "text/plain": [
       "122.92893112089878"
      ]
     },
     "execution_count": 15,
     "metadata": {},
     "output_type": "execute_result"
    }
   ],
   "source": [
    "t1 = datetime.datetime.now()\n",
    "c = strassen(a, b)\n",
    "print(datetime.datetime.now() - t1)\n",
    "c[25][25]"
   ]
  },
  {
   "cell_type": "code",
   "execution_count": null,
   "metadata": {
    "collapsed": true
   },
   "outputs": [],
   "source": []
  }
 ],
 "metadata": {
  "kernelspec": {
   "display_name": "Python 3",
   "language": "python",
   "name": "python3"
  },
  "language_info": {
   "codemirror_mode": {
    "name": "ipython",
    "version": 3
   },
   "file_extension": ".py",
   "mimetype": "text/x-python",
   "name": "python",
   "nbconvert_exporter": "python",
   "pygments_lexer": "ipython3",
   "version": "3.6.2"
  }
 },
 "nbformat": 4,
 "nbformat_minor": 2
}
