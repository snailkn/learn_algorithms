{
 "cells": [
  {
   "cell_type": "heading",
   "metadata": {
    "collapsed": true
   },
   "level": 1,
   "source": [
    "算法基础 - 插入排序"
   ]
  },
  {
   "cell_type": "markdown",
   "metadata": {},
   "source": [
    "> 1.插入法降序排序"
   ]
  },
  {
   "cell_type": "code",
   "execution_count": 1,
   "metadata": {},
   "outputs": [],
   "source": [
    "import numpy as np\n",
    "import random\n",
    "import time"
   ]
  },
  {
   "cell_type": "code",
   "execution_count": 6,
   "metadata": {
    "collapsed": true
   },
   "outputs": [
    {
     "name": "stdout",
     "output_type": "stream",
     "text": [
      "[26247 27748 31404 ..., 16477   412 25203]\n"
     ]
    },
    {
     "name": "stdout",
     "output_type": "stream",
     "text": [
      "[49997 49993 49991 ...,    12     9     2]\n15.146586179733276\n"
     ]
    }
   ],
   "source": [
    "def insertion_sort(array):\n",
    "    length = len(array)\n",
    "    for i in range(1, length):\n",
    "        key = array[i]\n",
    "        j = i-1\n",
    "        while j >= 0 and array[j] < key:\n",
    "            array[j+1] = array[j]\n",
    "            j -= 1\n",
    "        array[j+1] = key\n",
    "    return array\n",
    "\n",
    "a = np.array(random.sample(range(50000), 10000))\n",
    "print(a)\n",
    "t = time.time()\n",
    "print(insertion_sort(a))\n",
    "print(time.time()-t)"
   ]
  },
  {
   "cell_type": "markdown",
   "metadata": {},
   "source": [
    "> 2.使用线性查找确认给定数字是否在给定数组中，返回对应的数组下标或者None"
   ]
  },
  {
   "cell_type": "code",
   "execution_count": 3,
   "metadata": {},
   "outputs": [
    {
     "name": "stdout",
     "output_type": "stream",
     "text": [
      "[0 1 2 3 4 5 6 7 8 9]\n[0, 1, 2, 3, 4, 5, 6, 7, 8, 9, None]\n"
     ]
    }
   ],
   "source": [
    "def find_num(array, num):\n",
    "    length = len(array)\n",
    "    i = 0\n",
    "    while i < length and array[i] != num:\n",
    "        i += 1\n",
    "    return i if i < length else None\n",
    "\n",
    "a = np.array(range(10))\n",
    "print(a)\n",
    "print([find_num(a, x) for x in range(11)])"
   ]
  },
  {
   "cell_type": "markdown",
   "metadata": {},
   "source": [
    "> 3.用n元数组模拟两个n位二进制数相加的过程"
   ]
  },
  {
   "cell_type": "code",
   "execution_count": 4,
   "metadata": {},
   "outputs": [
    {
     "name": "stdout",
     "output_type": "stream",
     "text": [
      "[0 0 1 1]\n"
     ]
    }
   ],
   "source": [
    "def badd(a, b):\n",
    "    if len(a) != len(b) or (set(a + b) != {0, 1} and set(a + b) != {1}):\n",
    "        print('input error')\n",
    "    n = len(a)\n",
    "    i = temp = 0\n",
    "    c = np.array([0] * (n + 1))\n",
    "    while i < n:\n",
    "        sum = a[i] + b[i] + temp\n",
    "        c[i], temp = sum % 2, sum // 2\n",
    "        i += 1\n",
    "    c[n] = temp\n",
    "    return c\n",
    "print(badd([1, 1, 1], [1, 0, 1]))\n"
   ]
  },
  {
   "cell_type": "code",
   "execution_count": null,
   "metadata": {},
   "outputs": [],
   "source": []
  }
 ],
 "metadata": {
  "kernelspec": {
   "display_name": "Python 2",
   "language": "python",
   "name": "python2"
  },
  "language_info": {
   "codemirror_mode": {
    "name": "ipython",
    "version": 2
   },
   "file_extension": ".py",
   "mimetype": "text/x-python",
   "name": "python",
   "nbconvert_exporter": "python",
   "pygments_lexer": "ipython2",
   "version": "2.7.6"
  }
 },
 "nbformat": 4,
 "nbformat_minor": 0
}
