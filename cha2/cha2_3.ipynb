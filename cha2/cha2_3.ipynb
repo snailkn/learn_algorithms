{
 "cells": [
  {
   "cell_type": "heading",
   "metadata": {
    "collapsed": true
   },
   "level": 1,
   "source": [
    "算法基础 - 设计算法"
   ]
  },
  {
   "cell_type": "markdown",
   "metadata": {},
   "source": [
    "> 归并排序"
   ]
  },
  {
   "cell_type": "code",
   "execution_count": 1,
   "metadata": {},
   "outputs": [],
   "source": [
    "import numpy as np\n",
    "import random\n",
    "import time"
   ]
  },
  {
   "cell_type": "code",
   "execution_count": 6,
   "metadata": {},
   "outputs": [
    {
     "name": "stdout",
     "output_type": "stream",
     "text": [
      "[ 3875 45858    22 ..., 19760 20885 36795]\n[  3.00000000e+00   1.50000000e+01   1.60000000e+01 ...,   4.99860000e+04\n   4.99950000e+04   4.99980000e+04]\n0.14264893531799316\n"
     ]
    }
   ],
   "source": [
    "def merge(a1, a2):\n",
    "    l1, l2 = len(a1), len(a2)\n",
    "    l = l1 + l2\n",
    "    ar = np.empty(l)\n",
    "    i = j = r = 0\n",
    "    while i != l1 and j != l2:\n",
    "        if a1[i] <= a2[j]:\n",
    "            ar[r] = a1[i]\n",
    "            i += 1\n",
    "        else:\n",
    "            ar[r] = a2[j]\n",
    "            j += 1\n",
    "        r += 1\n",
    "    if i == l1:\n",
    "        ar[r:] = a2[j:]\n",
    "    else:\n",
    "        ar[r:] = a1[i:]\n",
    "    return ar\n",
    "    \n",
    "def merge_sort(array):\n",
    "    length = len(array)\n",
    "    if length == 1:\n",
    "        return array\n",
    "    p = length//2\n",
    "    a1 = merge_sort(array[0: p])\n",
    "    a2 = merge_sort(array[p: length])\n",
    "    return merge(a1, a2)\n",
    "\n",
    "a = np.array(random.sample(range(50000), 10000))\n",
    "print(a)\n",
    "t = time.time()\n",
    "print(merge_sort(a))\n",
    "print(time.time()-t)"
   ]
  },
  {
   "cell_type": "code",
   "execution_count": null,
   "metadata": {},
   "outputs": [],
   "source": []
  }
 ],
 "metadata": {
  "kernelspec": {
   "display_name": "Python 2",
   "language": "python",
   "name": "python2"
  },
  "language_info": {
   "codemirror_mode": {
    "name": "ipython",
    "version": 2
   },
   "file_extension": ".py",
   "mimetype": "text/x-python",
   "name": "python",
   "nbconvert_exporter": "python",
   "pygments_lexer": "ipython2",
   "version": "2.7.6"
  }
 },
 "nbformat": 4,
 "nbformat_minor": 0
}
