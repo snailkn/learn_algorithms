{
 "cells": [
  {
   "cell_type": "heading",
   "metadata": {
    "collapsed": true
   },
   "level": 1,
   "source": [
    "算法基础 - 分析算法"
   ]
  },
  {
   "cell_type": "code",
   "execution_count": 2,
   "metadata": {},
   "outputs": [],
   "source": [
    "import numpy as np\n",
    "import random\n",
    "import time"
   ]
  },
  {
   "cell_type": "markdown",
   "metadata": {},
   "source": [
    "> 2.2选择算法对数组进行排序"
   ]
  },
  {
   "cell_type": "code",
   "execution_count": 4,
   "metadata": {},
   "outputs": [
    {
     "name": "stdout",
     "output_type": "stream",
     "text": [
      "[13587 28547 10141 ..., 31846 32712  7809]\n"
     ]
    },
    {
     "name": "stdout",
     "output_type": "stream",
     "text": [
      "[    0     1    19 ..., 49990 49992 49997]\n10.699007987976074\n"
     ]
    }
   ],
   "source": [
    "def selection_sort(array):\n",
    "    length = len(array)\n",
    "    m, min = 0, array[0]\n",
    "    for i in range(1, length):\n",
    "        for j in range(i, length):\n",
    "            if array[j] < min:\n",
    "                m, min = j, array[j]\n",
    "                j += 1\n",
    "        array[m] = array[i-1]\n",
    "        array[i-1] = min\n",
    "        m, min = i, array[i]\n",
    "        i += 1\n",
    "    return array\n",
    "\n",
    "a = np.array(random.sample(range(50000), 10000))    \n",
    "print(a)\n",
    "t = time.time()\n",
    "print(selection_sort(a))\n",
    "print(time.time()-t)"
   ]
  },
  {
   "cell_type": "code",
   "execution_count": null,
   "metadata": {},
   "outputs": [],
   "source": []
  }
 ],
 "metadata": {
  "kernelspec": {
   "display_name": "Python 2",
   "language": "python",
   "name": "python2"
  },
  "language_info": {
   "codemirror_mode": {
    "name": "ipython",
    "version": 2
   },
   "file_extension": ".py",
   "mimetype": "text/x-python",
   "name": "python",
   "nbconvert_exporter": "python",
   "pygments_lexer": "ipython2",
   "version": "2.7.6"
  }
 },
 "nbformat": 4,
 "nbformat_minor": 0
}
